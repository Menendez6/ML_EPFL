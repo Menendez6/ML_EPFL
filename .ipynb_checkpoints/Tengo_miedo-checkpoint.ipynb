{
 "cells": [
  {
   "cell_type": "code",
   "execution_count": 1,
   "id": "75e4dea7-021b-41dc-9eec-ecb83f5b2c4d",
   "metadata": {
    "tags": []
   },
   "outputs": [
    {
     "name": "stdout",
     "output_type": "stream",
     "text": [
      "Hola buenos días\n"
     ]
    }
   ],
   "source": [
    "print(\"Hola buenos días\")"
   ]
  },
  {
   "cell_type": "code",
   "execution_count": null,
   "id": "25938bf4-f6e6-4901-94cc-221b097a3d3b",
   "metadata": {},
   "outputs": [],
   "source": []
  }
 ],
 "metadata": {
  "kernelspec": {
   "display_name": "Python3",
   "language": "python",
   "name": "python3"
  },
  "language_info": {
   "codemirror_mode": {
    "name": "ipython",
    "version": 3
   },
   "file_extension": ".py",
   "mimetype": "text/x-python",
   "name": "python",
   "nbconvert_exporter": "python",
   "pygments_lexer": "ipython3",
   "version": "3.11.5"
  }
 },
 "nbformat": 4,
 "nbformat_minor": 5
}
